{
 "cells": [
  {
   "cell_type": "code",
   "execution_count": 7,
   "id": "8b99d625-93c0-4174-826a-b7d8727b3642",
   "metadata": {},
   "outputs": [
    {
     "name": "stderr",
     "output_type": "stream",
     "text": [
      "Matplotlib is building the font cache; this may take a moment.\n"
     ]
    },
    {
     "name": "stdout",
     "output_type": "stream",
     "text": [
      "Data preview:\n",
      "  Data operacji Data waluty        Typ transakcji   Kwota Waluta  \\\n",
      "0    2025-07-01  2025-07-01        Płatność kartą   -45.6    PLN   \n",
      "1    2025-07-02  2025-07-02  Przelew przychodzący  1500.0    PLN   \n",
      "2    2025-07-03  2025-07-03      Wypłata bankomat  -200.0    PLN   \n",
      "3    2025-07-04  2025-07-04        Płatność kartą  -120.3    PLN   \n",
      "4    2025-07-05  2025-07-05    Przelew wychodzący  -350.0    PLN   \n",
      "\n",
      "   Saldo po transakcji       Opis transakcji Kolumna8 Kolumna9 Kolumna10  \\\n",
      "0               9954.4     Sklep spożywczy X     X123     X567      X324   \n",
      "1              11454.4    Wynagrodzenie ACME     X234     X765      X112   \n",
      "2              11254.4  Bankomat PKO Wrocław     X876     X543      X210   \n",
      "3              11134.1           Restauracja     X432     X111      X876   \n",
      "4              10784.1     Czynsz mieszkanie     X654     X777      X908   \n",
      "\n",
      "  Kolumna11 Kolumna12  \n",
      "0      X888      X654  \n",
      "1      X999      X321  \n",
      "2      X765      X908  \n",
      "3      X345      X222  \n",
      "4      X432      X109   \n",
      "\n",
      "Columns:\n",
      "Index(['Data operacji', 'Data waluty', 'Typ transakcji', 'Kwota', 'Waluta',\n",
      "       'Saldo po transakcji', 'Opis transakcji', 'Kolumna8', 'Kolumna9',\n",
      "       'Kolumna10', 'Kolumna11', 'Kolumna12'],\n",
      "      dtype='object') \n",
      "\n",
      "Sum of incomes: 6000.00\n",
      "Sum of expenses: -4087.47\n",
      "Balance: 1912.53\n"
     ]
    }
   ],
   "source": [
    "import pandas as pd\n",
    "import os #helps me navigate with my folders as had issues locating folders for the files and print(os.getcwd)) does magic!\n",
    "import matplotlib.pyplot as plt\n",
    "\n",
    "df = pd.read_csv('../data/sample_data.csv')\n",
    "\n",
    "print('Data preview:')\n",
    "print(df.head(), '\\n')\n",
    "print('Columns:')\n",
    "print(df.columns, '\\n')\n",
    "\n",
    "#Let's convert 'Kwota' colums to numbers with .to_numeric function from Pandas\n",
    "df['Kwota'] = pd.to_numeric(df['Kwota'], errors = 'coerce')\n",
    "\n",
    "#Let's separate incomes and expenses and sum them up\n",
    "incomes = df[df['Kwota'] > 0]['Kwota'].sum()\n",
    "expenses = df[df['Kwota'] < 0]['Kwota'].sum()\n",
    "\n",
    "print(f'Sum of incomes: {incomes:.2f}')\n",
    "print(f'Sum of expenses: {expenses:.2f}')\n",
    "print(f'Balance: {incomes + expenses:.2f}')\n",
    "\n"
   ]
  },
  {
   "cell_type": "code",
   "execution_count": 8,
   "id": "18b400ea-f2cd-440d-9618-0f1aa79801df",
   "metadata": {},
   "outputs": [
    {
     "name": "stdout",
     "output_type": "stream",
     "text": [
      "Top 10 expenses:\n",
      "  Data operacji    Kwota        Opis transakcji\n",
      "0    2025-07-19 -1000.00      Kredyt hipoteczny\n",
      "1    2025-07-29  -600.00     Przedszkole dzieci\n",
      "2    2025-07-14  -500.00  Firma Ubezpieczeniowa\n",
      "3    2025-07-10  -400.00  Bankomat PKO Warszawa\n",
      "4    2025-07-05  -350.00      Czynsz mieszkanie\n",
      "5    2025-07-23  -300.00    Bankomat PKO Kraków\n",
      "6    2025-07-21  -250.50          Sklep meblowy\n",
      "7    2025-07-03  -200.00   Bankomat PKO Wrocław\n",
      "8    2025-07-04  -120.30            Restauracja\n",
      "9    2025-07-30   -99.99                 Apteka\n"
     ]
    }
   ],
   "source": [
    "#Let's add 10 biggest spending from the file\n",
    "top_expenses = df[df['Kwota'] < 0].sort_values(by='Kwota').head(10).reset_index(drop = True)\n",
    "print('Top 10 expenses:')\n",
    "print(top_expenses[['Data operacji', 'Kwota', 'Opis transakcji']])"
   ]
  },
  {
   "cell_type": "code",
   "execution_count": 16,
   "id": "02c22cba-933f-424e-8848-3bbdf4ab70d4",
   "metadata": {},
   "outputs": [
    {
     "name": "stdout",
     "output_type": "stream",
     "text": [
      "Daily expenses report: \n",
      "\n",
      "Data operacji\n",
      "2025-07-01     -45.60\n",
      "2025-07-03    -200.00\n",
      "2025-07-04    -120.30\n",
      "2025-07-05    -350.00\n",
      "2025-07-08     -89.99\n",
      "2025-07-10    -400.00\n",
      "2025-07-12     -15.20\n",
      "2025-07-14    -500.00\n",
      "2025-07-17     -39.99\n",
      "2025-07-19   -1000.00\n",
      "Name: Kwota, dtype: float64\n",
      "Daily incomes report: \n",
      "\n",
      "Data operacji\n",
      "2025-07-02    1500.0\n",
      "2025-07-06    2000.0\n",
      "2025-07-15     800.0\n",
      "2025-07-27    1200.0\n",
      "2025-07-31     500.0\n",
      "Name: Kwota, dtype: float64\n",
      "Daily balance report: \n",
      "\n",
      "Data operacji\n",
      "2025-07-01     -45.60\n",
      "2025-07-02    1500.00\n",
      "2025-07-03    -200.00\n",
      "2025-07-04    -120.30\n",
      "2025-07-05    -350.00\n",
      "2025-07-06    2000.00\n",
      "2025-07-08     -89.99\n",
      "2025-07-10    -400.00\n",
      "2025-07-12     -15.20\n",
      "2025-07-14    -500.00\n",
      "Name: Kwota, dtype: float64\n"
     ]
    }
   ],
   "source": [
    "#Quick check to convert 'Data Operacji' to date (if not it will be change to NaT)\n",
    "df['Data operacji'] = pd.to_datetime(df['Data operacji'], errors='coerce')\n",
    "\n",
    "#Creates a table that shows how much was spent on particular date\n",
    "daily_expenses = df[df['Kwota'] < 0].groupby(df['Data operacji'].dt.date)['Kwota'].sum()\n",
    "daily_incomes = df[df['Kwota'] > 0].groupby(df['Data operacji'].dt.date)['Kwota'].sum()\n",
    "daily_balance = df.groupby(df[\"Data operacji\"].dt.date)[\"Kwota\"].sum()\n",
    "\n",
    "print('Daily expenses report: \\n')\n",
    "print(daily_expenses.head(10))\n",
    "print('Daily incomes report: \\n')\n",
    "print(daily_incomes.head(10))\n",
    "print('Daily balance report: \\n')\n",
    "print(daily_balance.head(10))"
   ]
  },
  {
   "cell_type": "code",
   "execution_count": 17,
   "id": "22156e50-e470-4cea-8f1f-bbad0ee98a9f",
   "metadata": {},
   "outputs": [
    {
     "name": "stdout",
     "output_type": "stream",
     "text": [
      "Sum of expenses and incomes on particlar days: \n"
     ]
    },
    {
     "data": {
      "image/png": "[encoded data removed]",
      "text/plain": [
       "<Figure size 1000x500 with 1 Axes>"
      ]
     },
     "metadata": {},
     "output_type": "display_data"
    }
   ],
   "source": [
    "#Adding a chart showing sum od daily transactions\n",
    "print('Sum of expenses and incomes on particlar days: ')\n",
    "plt.figure(figsize=(10,5))\n",
    "daily_balance.plot(kind=\"bar\")\n",
    "plt.title(\"Bilans dzienny\")\n",
    "plt.xlabel(\"Data\")\n",
    "plt.ylabel(\"Kwota [PLN]\")\n",
    "plt.xticks(rotation=45)\n",
    "plt.show()"
   ]
  },
  {
   "cell_type": "code",
   "execution_count": null,
   "id": "62907152-655d-48b4-9595-ee450d07b1de",
   "metadata": {},
   "outputs": [],
   "source": []
  }
 ],
 "metadata": {
  "kernelspec": {
   "display_name": "Python [conda env:base] *",
   "language": "python",
   "name": "conda-base-py"
  },
  "language_info": {
   "codemirror_mode": {
    "name": "ipython",
    "version": 3
   },
   "file_extension": ".py",
   "mimetype": "text/x-python",
   "name": "python",
   "nbconvert_exporter": "python",
   "pygments_lexer": "ipython3",
   "version": "3.13.5"
  }
 },
 "nbformat": 4,
 "nbformat_minor": 5
}
