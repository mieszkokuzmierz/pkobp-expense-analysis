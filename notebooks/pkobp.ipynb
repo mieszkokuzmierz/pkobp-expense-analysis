{
 "cells": [
  {
   "cell_type": "code",
   "execution_count": 19,
   "id": "8b99d625-93c0-4174-826a-b7d8727b3642",
   "metadata": {},
   "outputs": [
    {
     "name": "stdout",
     "output_type": "stream",
     "text": [
      "Data preview:\n",
      "  Data operacji Data waluty        Typ transakcji   Kwota Waluta  \\\n",
      "0    2025-07-01  2025-07-01        Płatność kartą   -45.6    PLN   \n",
      "1    2025-07-02  2025-07-02  Przelew przychodzący  1500.0    PLN   \n",
      "2    2025-07-03  2025-07-03      Wypłata bankomat  -200.0    PLN   \n",
      "3    2025-07-04  2025-07-04        Płatność kartą  -120.3    PLN   \n",
      "4    2025-07-05  2025-07-05    Przelew wychodzący  -350.0    PLN   \n",
      "\n",
      "   Saldo po transakcji       Opis transakcji Kolumna8 Kolumna9 Kolumna10  \\\n",
      "0               9954.4     Sklep spożywczy X     X123     X567      X324   \n",
      "1              11454.4    Wynagrodzenie ACME     X234     X765      X112   \n",
      "2              11254.4  Bankomat PKO Wrocław     X876     X543      X210   \n",
      "3              11134.1           Restauracja     X432     X111      X876   \n",
      "4              10784.1     Czynsz mieszkanie     X654     X777      X908   \n",
      "\n",
      "  Kolumna11 Kolumna12  \n",
      "0      X888      X654  \n",
      "1      X999      X321  \n",
      "2      X765      X908  \n",
      "3      X345      X222  \n",
      "4      X432      X109   \n",
      "\n",
      "Columns:\n",
      "Index(['Data operacji', 'Data waluty', 'Typ transakcji', 'Kwota', 'Waluta',\n",
      "       'Saldo po transakcji', 'Opis transakcji', 'Kolumna8', 'Kolumna9',\n",
      "       'Kolumna10', 'Kolumna11', 'Kolumna12'],\n",
      "      dtype='object') \n",
      "\n",
      "Sum of incomes: 6000.00\n",
      "Sum of expenses: -4087.47\n",
      "Balance: 1912.53\n"
     ]
    }
   ],
   "source": [
    "import pandas as pd\n",
    "import os #helps me navigate with my folders as had issues locating folders for the files and print(os.getcwd)) does magic!\n",
    "\n",
    "df = pd.read_csv('../data/sample_data.csv')\n",
    "\n",
    "print('Data preview:')\n",
    "print(df.head(), '\\n')\n",
    "print('Columns:')\n",
    "print(df.columns, '\\n')\n",
    "\n",
    "#Let's convert 'Kwota' colums to numbers with .to_numeric function from Pandas\n",
    "df['Kwota'] = pd.to_numeric(df['Kwota'], errors = 'coerce')\n",
    "\n",
    "#Let's separate incomes and expenses and sum them up\n",
    "incomes = df[df['Kwota'] > 0]['Kwota'].sum()\n",
    "expenses = df[df['Kwota'] < 0]['Kwota'].sum()\n",
    "\n",
    "print(f'Sum of incomes: {incomes:.2f}')\n",
    "print(f'Sum of expenses: {expenses:.2f}')\n",
    "print(f'Balance: {incomes + expenses:.2f}')\n",
    "\n"
   ]
  },
  {
   "cell_type": "code",
   "execution_count": null,
   "id": "18b400ea-f2cd-440d-9618-0f1aa79801df",
   "metadata": {},
   "outputs": [],
   "source": []
  }
 ],
 "metadata": {
  "kernelspec": {
   "display_name": "Python [conda env:base] *",
   "language": "python",
   "name": "conda-base-py"
  },
  "language_info": {
   "codemirror_mode": {
    "name": "ipython",
    "version": 3
   },
   "file_extension": ".py",
   "mimetype": "text/x-python",
   "name": "python",
   "nbconvert_exporter": "python",
   "pygments_lexer": "ipython3",
   "version": "3.13.5"
  }
 },
 "nbformat": 4,
 "nbformat_minor": 5
}
