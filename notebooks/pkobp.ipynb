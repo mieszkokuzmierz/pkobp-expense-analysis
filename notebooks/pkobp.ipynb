{
 "cells": [
  {
   "cell_type": "code",
   "execution_count": 13,
   "id": "43f26280-efe0-44ff-8fb2-7356675273a6",
   "metadata": {},
   "outputs": [],
   "source": [
    "import pandas as pd\n",
    "import os #helps me navigate with my folders as had issues locating folders for the files and print(os.getcwd)) does magic!"
   ]
  },
  {
   "cell_type": "code",
   "execution_count": 14,
   "id": "7c212674-bb13-4539-98f7-6705fbca1f42",
   "metadata": {},
   "outputs": [],
   "source": [
    "df = pd.read_csv('../data/sample_data.csv')"
   ]
  },
  {
   "cell_type": "code",
   "execution_count": 15,
   "id": "d6d8edb0-ce03-4d13-af56-790367f35d95",
   "metadata": {},
   "outputs": [
    {
     "name": "stdout",
     "output_type": "stream",
     "text": [
      "Data preview:\n",
      "  Data operacji Data waluty        Typ transakcji   Kwota Waluta  \\\n",
      "0    2025-07-01  2025-07-01        Płatność kartą   -45.6    PLN   \n",
      "1    2025-07-02  2025-07-02  Przelew przychodzący  1500.0    PLN   \n",
      "2    2025-07-03  2025-07-03      Wypłata bankomat  -200.0    PLN   \n",
      "3    2025-07-04  2025-07-04        Płatność kartą  -120.3    PLN   \n",
      "4    2025-07-05  2025-07-05    Przelew wychodzący  -350.0    PLN   \n",
      "\n",
      "   Saldo po transakcji       Opis transakcji Kolumna8 Kolumna9 Kolumna10  \\\n",
      "0               9954.4     Sklep spożywczy X     X123     X567      X324   \n",
      "1              11454.4    Wynagrodzenie ACME     X234     X765      X112   \n",
      "2              11254.4  Bankomat PKO Wrocław     X876     X543      X210   \n",
      "3              11134.1           Restauracja     X432     X111      X876   \n",
      "4              10784.1     Czynsz mieszkanie     X654     X777      X908   \n",
      "\n",
      "  Kolumna11 Kolumna12  \n",
      "0      X888      X654  \n",
      "1      X999      X321  \n",
      "2      X765      X908  \n",
      "3      X345      X222  \n",
      "4      X432      X109   \n",
      "\n",
      "Columns:\n",
      "Index(['Data operacji', 'Data waluty', 'Typ transakcji', 'Kwota', 'Waluta',\n",
      "       'Saldo po transakcji', 'Opis transakcji', 'Kolumna8', 'Kolumna9',\n",
      "       'Kolumna10', 'Kolumna11', 'Kolumna12'],\n",
      "      dtype='object') \n",
      "\n"
     ]
    }
   ],
   "source": [
    "print('Data preview:')\n",
    "print(df.head(), '\\n')\n",
    "print('Columns:')\n",
    "print(df.columns, '\\n')"
   ]
  },
  {
   "cell_type": "code",
   "execution_count": 16,
   "id": "a49194d7-9baf-4dcd-bbd1-7a7377c98000",
   "metadata": {},
   "outputs": [],
   "source": [
    "#Let's convert 'Kwota' colums to numbers with .to_numeric function from Pandas\n",
    "df['Kwota'] = pd.to_numeric(df['Kwota'], errors = 'coerce')"
   ]
  },
  {
   "cell_type": "code",
   "execution_count": 17,
   "id": "acc8e29f-1e88-4a91-bf08-0b487003f626",
   "metadata": {},
   "outputs": [],
   "source": [
    "#Let's separate incomes and expenses and sum them up\n",
    "incomes = df[df['Kwota'] > 0]['Kwota'].sum()\n",
    "expenses = df[df['Kwota'] < 0]['Kwota'].sum()"
   ]
  },
  {
   "cell_type": "code",
   "execution_count": 18,
   "id": "df1954b7-7529-48b1-a71b-cf17c95be985",
   "metadata": {},
   "outputs": [
    {
     "name": "stdout",
     "output_type": "stream",
     "text": [
      "Sum of incomes: 6000.00\n",
      "Sum of expenses: -4087.47\n",
      "Balance: 1912.53\n"
     ]
    }
   ],
   "source": [
    "print(f'Sum of incomes: {incomes:.2f}')\n",
    "print(f'Sum of expenses: {expenses:.2f}')\n",
    "print(f'Balance: {incomes + expenses:.2f}')"
   ]
  },
  {
   "cell_type": "code",
   "execution_count": null,
   "id": "ee198376-0e72-4a91-b8fd-65b5dbc2f7ed",
   "metadata": {},
   "outputs": [],
   "source": []
  }
 ],
 "metadata": {
  "kernelspec": {
   "display_name": "Python [conda env:base] *",
   "language": "python",
   "name": "conda-base-py"
  },
  "language_info": {
   "codemirror_mode": {
    "name": "ipython",
    "version": 3
   },
   "file_extension": ".py",
   "mimetype": "text/x-python",
   "name": "python",
   "nbconvert_exporter": "python",
   "pygments_lexer": "ipython3",
   "version": "3.13.5"
  }
 },
 "nbformat": 4,
 "nbformat_minor": 5
}
